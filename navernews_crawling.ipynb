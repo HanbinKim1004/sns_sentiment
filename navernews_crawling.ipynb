{
 "cells": [
  {
   "cell_type": "code",
   "execution_count": 1,
   "id": "5b7e19fe",
   "metadata": {},
   "outputs": [],
   "source": [
    "import pandas as pd\n",
    "from selenium import webdriver\n",
    "from selenium.webdriver.common.keys import Keys\n",
    "import time\n",
    "import random\n",
    "import unicodedata\n",
    "import re\n",
    "from selenium.webdriver.common.by import By"
   ]
  },
  {
   "cell_type": "code",
   "execution_count": 2,
   "id": "d39bf03c",
   "metadata": {},
   "outputs": [],
   "source": [
    "#url파일 가져오기\n",
    "df = pd.read_excel(\"/Users/son-yejin/데이트폭력_네이버기사_url.xlsx\")"
   ]
  },
  {
   "cell_type": "code",
   "execution_count": 3,
   "id": "0c646ca2",
   "metadata": {},
   "outputs": [],
   "source": [
    "# df의 https://n.news.naver.com/mnews/article 으로 시작하는 것만 가져오기\n",
    "need = []\n",
    "string = \"https://n.news.naver.com/mnews/article\"\n",
    "for i in range(len(df)):\n",
    "    if string in df['url'].iloc[i]:\n",
    "        need.append(i)\n",
    "df_ = df['url'].loc[need]\n",
    "df_= pd.DataFrame(df_)\n",
    "df_.reset_index(inplace = True)"
   ]
  },
  {
   "cell_type": "code",
   "execution_count": 7,
   "id": "e23ca380",
   "metadata": {
    "scrolled": true
   },
   "outputs": [
    {
     "name": "stderr",
     "output_type": "stream",
     "text": [
      "/var/folders/pb/ct7cxfvs6477s2t94xjdnrnm0000gn/T/ipykernel_67918/2156242172.py:1: DeprecationWarning: executable_path has been deprecated, please pass in a Service object\n",
      "  driver = webdriver.Chrome('/Users/son-yejin/Downloads/chromedriver 4')\n"
     ]
    }
   ],
   "source": [
    "# 본인의 드라이버 경로 입력하기\n",
    "driver = webdriver.Chrome('/Users/son-yejin/Downloads/chromedriver 4')"
   ]
  },
  {
   "cell_type": "code",
   "execution_count": null,
   "id": "104a3470",
   "metadata": {
    "scrolled": true
   },
   "outputs": [
    {
     "name": "stderr",
     "output_type": "stream",
     "text": [
      "/var/folders/pb/ct7cxfvs6477s2t94xjdnrnm0000gn/T/ipykernel_67918/940296822.py:8: DeprecationWarning: executable_path has been deprecated, please pass in a Service object\n",
      "  driver = webdriver.Chrome('/Users/son-yejin/Downloads/chromedriver 4')\n"
     ]
    }
   ],
   "source": [
    "댓글_l = []\n",
    "헤드라인_l = []\n",
    "리포터_l = []\n",
    "날짜_l = []\n",
    "내용_l = []\n",
    "\n",
    "\n",
    "driver = webdriver.Chrome('/Users/son-yejin/Downloads/chromedriver 4')\n",
    "for i in range(len(df_)):\n",
    "    \n",
    "    url = df_['url'].loc[i]   \n",
    "    \n",
    "    driver.get(url)\n",
    "    driver.implicitly_wait(10)\n",
    "    \n",
    "    # 댓글 개수 체크 / 만약 \"네이버 뉴스\"가 아니라 \"TV연예\"에 떴을 경우 pass\n",
    "    \n",
    "    try: \n",
    "        \n",
    "        댓글상태 = driver.find_element(By.XPATH,'//*[@id=\"cbox_module\"]/div[2]/div[1]/a/span[1]')\n",
    "        댓글상태 = 댓글상태.text\n",
    "        \n",
    "        if 댓글상태 == \"댓글\":\n",
    "            continue\n",
    "        elif int(댓글상태) != 0:\n",
    "            headline = '//*[@id=\"ct\"]/div[1]/div[2]/h2'\n",
    "            reporter = '//*[@id=\"ct\"]/div[1]/div[3]/div[2]/a/em'\n",
    "            date = '//*[@id=\"ct\"]/div[1]/div[3]/div[1]/div/span'\n",
    "            content = '//*[@id=\"dic_area\"]'\n",
    "\n",
    "            헤드라인 = driver.find_element(By.XPATH, headline).text\n",
    "            리포터 = driver.find_element(By.XPATH, reporter).text\n",
    "            날짜 = driver.find_element(By.XPATH, date).text          \n",
    "            내용 = driver.find_element(By.XPATH, content).text\n",
    "\n",
    "            헤드라인_l.append(헤드라인)\n",
    "            리포터_l.append(리포터)\n",
    "            날짜_l.append(날짜)\n",
    "            내용_l.append(내용)\n",
    "\n",
    "            댓글더보기 = '//*[@id=\"cbox_module\"]/div[2]/div[9]/a/span[1]'\n",
    "            driver.find_element(By.XPATH, 댓글더보기).click()\n",
    "                \n",
    "            while True:\n",
    "                try:\n",
    "                    더보기 = '//*[@id=\"cbox_module\"]/div[2]/div[9]/a'\n",
    "                    driver.find_element(By.XPATH, 더보기).click()\n",
    "                except:\n",
    "                    break\n",
    "                    \n",
    "            댓글정보 = driver.find_element(By.XPATH,'//*[@id=\"cbox_module_wai_u_cbox_content_wrap_tabpanel\"]').text\n",
    "            댓글_l.append(댓글정보)\n",
    "    except:\n",
    "        pass\n",
    "    \n",
    "dfdf = {'헤드라인' :헤드라인_l, '날짜' : 날짜_l, '리포터' :리포터_l, '내용' : 내용_l, '댓글' : 댓글_l }\n",
    "df = pd.DataFrame(dfdf)\n",
    "df.to_csv(\"데이트폭력.csv\")"
   ]
  },
  {
   "cell_type": "code",
   "execution_count": null,
   "id": "81fbfb5d",
   "metadata": {},
   "outputs": [],
   "source": []
  }
 ],
 "metadata": {
  "kernelspec": {
   "display_name": "Python 3 (ipykernel)",
   "language": "python",
   "name": "python3"
  },
  "language_info": {
   "codemirror_mode": {
    "name": "ipython",
    "version": 3
   },
   "file_extension": ".py",
   "mimetype": "text/x-python",
   "name": "python",
   "nbconvert_exporter": "python",
   "pygments_lexer": "ipython3",
   "version": "3.9.7"
  }
 },
 "nbformat": 4,
 "nbformat_minor": 5
}
