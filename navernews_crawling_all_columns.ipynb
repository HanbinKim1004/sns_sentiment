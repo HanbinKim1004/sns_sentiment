{
 "cells": [
  {
   "cell_type": "code",
   "execution_count": 1,
   "id": "5b7e19fe",
   "metadata": {},
   "outputs": [],
   "source": [
    "import pandas as pd\n",
    "from selenium import webdriver\n",
    "from selenium.webdriver.common.keys import Keys\n",
    "import time\n",
    "import random\n",
    "import unicodedata\n",
    "import re\n",
    "from selenium.webdriver.common.by import By"
   ]
  },
  {
   "cell_type": "code",
   "execution_count": 2,
   "id": "d39bf03c",
   "metadata": {},
   "outputs": [],
   "source": [
    "#url파일 가져오기\n",
    "df = pd.read_excel(\"/Users/son-yejin/데이트폭력_네이버기사_url.xlsx\")"
   ]
  },
  {
   "cell_type": "code",
   "execution_count": 3,
   "id": "0c646ca2",
   "metadata": {},
   "outputs": [],
   "source": [
    "# df의 https://n.news.naver.com/mnews/article 으로 시작하는 것만 가져오기\n",
    "need = []\n",
    "string = \"https://n.news.naver.com/mnews/article\"\n",
    "for i in range(len(df)):\n",
    "    if string in df['url'].iloc[i]:\n",
    "        need.append(i)\n",
    "df_ = df['url'].loc[need]\n",
    "df_= pd.DataFrame(df_)\n",
    "df_.reset_index(inplace = True)"
   ]
  },
  {
   "cell_type": "code",
   "execution_count": 4,
   "id": "bb99dee1",
   "metadata": {},
   "outputs": [],
   "source": [
    "# 빈 데이터프레임, 행의 크기는 url 데이터프레임의 크기정도로 잡습니다.\n",
    "DF = pd.DataFrame(columns = ['헤드라인','날짜', '언론사','리포터', '본문', '댓글', 'url'],index = list(range(0,40000)))"
   ]
  },
  {
   "cell_type": "code",
   "execution_count": 5,
   "id": "78a720af",
   "metadata": {},
   "outputs": [],
   "source": [
    "headline = '//*[@id=\"ct\"]/div[1]/div[2]/h2'\n",
    "reporter = '//*[@id=\"ct\"]/div[1]/div[3]/div[2]/a/em'\n",
    "date = '//*[@id=\"ct\"]/div[1]/div[3]/div[1]/div/span'\n",
    "content = '//*[@id=\"dic_area\"]'\n",
    "press = '//*[@id=\"ct\"]/div[1]/div[1]/a/img[1]'"
   ]
  },
  {
   "cell_type": "code",
   "execution_count": 6,
   "id": "e23ca380",
   "metadata": {
    "scrolled": true
   },
   "outputs": [
    {
     "name": "stderr",
     "output_type": "stream",
     "text": [
      "/var/folders/pb/ct7cxfvs6477s2t94xjdnrnm0000gn/T/ipykernel_79602/292541899.py:2: DeprecationWarning: executable_path has been deprecated, please pass in a Service object\n",
      "  driver = webdriver.Chrome('/Users/son-yejin/Downloads/chromedriver 4')\n"
     ]
    }
   ],
   "source": [
    "# 본인의 드라이버 경로 입력하기\n",
    "driver = webdriver.Chrome('/Users/son-yejin/Downloads/chromedriver 4')"
   ]
  },
  {
   "cell_type": "code",
   "execution_count": 7,
   "id": "104a3470",
   "metadata": {
    "scrolled": true
   },
   "outputs": [
    {
     "name": "stderr",
     "output_type": "stream",
     "text": [
      "/var/folders/pb/ct7cxfvs6477s2t94xjdnrnm0000gn/T/ipykernel_79602/3656090647.py:1: DeprecationWarning: executable_path has been deprecated, please pass in a Service object\n",
      "  driver = webdriver.Chrome('/Users/son-yejin/Downloads/chromedriver 4')\n"
     ]
    }
   ],
   "source": [
    "driver = webdriver.Chrome('/Users/son-yejin/Downloads/chromedriver 4')\n",
    "\n",
    "num = 0\n",
    "for i in range(len(df_)): \n",
    "    \n",
    "    url = df_['url'].loc[i]   \n",
    "    \n",
    "    driver.get(url)\n",
    "    driver.implicitly_wait(10)\n",
    "    \n",
    "    # 댓글 개수 체크 / 만약 \"네이버 뉴스\"가 아니라 \"TV연예\"에 떴을 경우 pass\n",
    "    \n",
    "    try: \n",
    "        \n",
    "        댓글상태 = driver.find_element(By.XPATH,'//*[@id=\"cbox_module\"]/div[2]/div[1]/a/span[1]')\n",
    "        댓글상태 = 댓글상태.text\n",
    "        \n",
    "        if 댓글상태 == \"댓글\":\n",
    "            continue\n",
    "        elif int(댓글상태) != 0:\n",
    "\n",
    "            헤드라인 = driver.find_element(By.XPATH, headline).text\n",
    "            리포터 = driver.find_element(By.XPATH, reporter).text\n",
    "            날짜 = driver.find_element(By.XPATH, date).text          \n",
    "            내용 = driver.find_element(By.XPATH, content).text\n",
    "            언론사 =  driver.find_element(By.XPATH, press).get_attribute(\"alt\")\n",
    "\n",
    "            try: \n",
    "                # 첫번째 댓글더보기\n",
    "                댓글더보기 = '//*[@id=\"cbox_module\"]/div[2]/div[9]/a/span[1]'\n",
    "                driver.find_element(By.XPATH, 댓글더보기).click()\n",
    "                # 두번째 이상의 댓글 더보기\n",
    "                while True:\n",
    "                    try:\n",
    "                        더보기 = '//*[@id=\"cbox_module\"]/div[2]/div[9]/a'\n",
    "                        driver.find_element(By.XPATH, 더보기).click()\n",
    "                    except:\n",
    "                        break\n",
    "            except:\n",
    "                print(\"더보기없음\")\n",
    "                \n",
    "            댓글 = driver.find_element(By.XPATH,'//*[@id=\"cbox_module_wai_u_cbox_content_wrap_tabpanel\"]').text\n",
    "            DF.iloc[num] = 헤드라인, 날짜,  언론사, 리포터,  내용, 댓글, url \n",
    "            num +=1\n",
    "    except:\n",
    "        pass\n"
   ]
  },
  {
   "cell_type": "code",
   "execution_count": 8,
   "id": "4cf344eb",
   "metadata": {
    "scrolled": true
   },
   "outputs": [
    {
     "data": {
      "text/html": [
       "<div>\n",
       "<style scoped>\n",
       "    .dataframe tbody tr th:only-of-type {\n",
       "        vertical-align: middle;\n",
       "    }\n",
       "\n",
       "    .dataframe tbody tr th {\n",
       "        vertical-align: top;\n",
       "    }\n",
       "\n",
       "    .dataframe thead th {\n",
       "        text-align: right;\n",
       "    }\n",
       "</style>\n",
       "<table border=\"1\" class=\"dataframe\">\n",
       "  <thead>\n",
       "    <tr style=\"text-align: right;\">\n",
       "      <th></th>\n",
       "      <th>헤드라인</th>\n",
       "      <th>날짜</th>\n",
       "      <th>언론사</th>\n",
       "      <th>리포터</th>\n",
       "      <th>본문</th>\n",
       "      <th>댓글</th>\n",
       "      <th>url</th>\n",
       "    </tr>\n",
       "  </thead>\n",
       "  <tbody>\n",
       "    <tr>\n",
       "      <th>0</th>\n",
       "      <td>'데이트 폭력'에 덜미 지명수배범, 파출소에서 도주</td>\n",
       "      <td>2022.07.27. 오전 9:49</td>\n",
       "      <td>YTN</td>\n",
       "      <td>나현호 기자</td>\n",
       "      <td>이른바 '데이트 폭력'을 저지르다 붙잡힌 남성이 파출소에서 달아나 경찰이 추적에 나...</td>\n",
       "      <td>hg02****\\n댓글모음\\n옵션 열기\\n수갑 채우지 말라는거 인권위 권고사항 아니...</td>\n",
       "      <td>https://n.news.naver.com/mnews/article/052/000...</td>\n",
       "    </tr>\n",
       "    <tr>\n",
       "      <th>1</th>\n",
       "      <td>NaN</td>\n",
       "      <td>NaN</td>\n",
       "      <td>NaN</td>\n",
       "      <td>NaN</td>\n",
       "      <td>NaN</td>\n",
       "      <td>NaN</td>\n",
       "      <td>NaN</td>\n",
       "    </tr>\n",
       "    <tr>\n",
       "      <th>2</th>\n",
       "      <td>NaN</td>\n",
       "      <td>NaN</td>\n",
       "      <td>NaN</td>\n",
       "      <td>NaN</td>\n",
       "      <td>NaN</td>\n",
       "      <td>NaN</td>\n",
       "      <td>NaN</td>\n",
       "    </tr>\n",
       "    <tr>\n",
       "      <th>3</th>\n",
       "      <td>NaN</td>\n",
       "      <td>NaN</td>\n",
       "      <td>NaN</td>\n",
       "      <td>NaN</td>\n",
       "      <td>NaN</td>\n",
       "      <td>NaN</td>\n",
       "      <td>NaN</td>\n",
       "    </tr>\n",
       "    <tr>\n",
       "      <th>4</th>\n",
       "      <td>NaN</td>\n",
       "      <td>NaN</td>\n",
       "      <td>NaN</td>\n",
       "      <td>NaN</td>\n",
       "      <td>NaN</td>\n",
       "      <td>NaN</td>\n",
       "      <td>NaN</td>\n",
       "    </tr>\n",
       "  </tbody>\n",
       "</table>\n",
       "</div>"
      ],
      "text/plain": [
       "                           헤드라인                   날짜  언론사     리포터  \\\n",
       "0  '데이트 폭력'에 덜미 지명수배범, 파출소에서 도주  2022.07.27. 오전 9:49  YTN  나현호 기자   \n",
       "1                           NaN                  NaN  NaN     NaN   \n",
       "2                           NaN                  NaN  NaN     NaN   \n",
       "3                           NaN                  NaN  NaN     NaN   \n",
       "4                           NaN                  NaN  NaN     NaN   \n",
       "\n",
       "                                                  본문  \\\n",
       "0  이른바 '데이트 폭력'을 저지르다 붙잡힌 남성이 파출소에서 달아나 경찰이 추적에 나...   \n",
       "1                                                NaN   \n",
       "2                                                NaN   \n",
       "3                                                NaN   \n",
       "4                                                NaN   \n",
       "\n",
       "                                                  댓글  \\\n",
       "0  hg02****\\n댓글모음\\n옵션 열기\\n수갑 채우지 말라는거 인권위 권고사항 아니...   \n",
       "1                                                NaN   \n",
       "2                                                NaN   \n",
       "3                                                NaN   \n",
       "4                                                NaN   \n",
       "\n",
       "                                                 url  \n",
       "0  https://n.news.naver.com/mnews/article/052/000...  \n",
       "1                                                NaN  \n",
       "2                                                NaN  \n",
       "3                                                NaN  \n",
       "4                                                NaN  "
      ]
     },
     "execution_count": 8,
     "metadata": {},
     "output_type": "execute_result"
    }
   ],
   "source": [
    "DF.head()"
   ]
  },
  {
   "cell_type": "code",
   "execution_count": null,
   "id": "eaae86d4",
   "metadata": {},
   "outputs": [],
   "source": [
    "DF.to_csv(\"데이트폭력.csv\")"
   ]
  }
 ],
 "metadata": {
  "kernelspec": {
   "display_name": "Python 3 (ipykernel)",
   "language": "python",
   "name": "python3"
  },
  "language_info": {
   "codemirror_mode": {
    "name": "ipython",
    "version": 3
   },
   "file_extension": ".py",
   "mimetype": "text/x-python",
   "name": "python",
   "nbconvert_exporter": "python",
   "pygments_lexer": "ipython3",
   "version": "3.9.7"
  }
 },
 "nbformat": 4,
 "nbformat_minor": 5
}
